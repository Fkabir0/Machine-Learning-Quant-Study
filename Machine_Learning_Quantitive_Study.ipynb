{
  "nbformat": 4,
  "nbformat_minor": 0,
  "metadata": {
    "colab": {
      "provenance": []
    },
    "kernelspec": {
      "name": "python3",
      "display_name": "Python 3"
    },
    "language_info": {
      "name": "python"
    }
  },
  "cells": [
    {
      "cell_type": "code",
      "execution_count": 1,
      "metadata": {
        "colab": {
          "base_uri": "https://localhost:8080/",
          "height": 498
        },
        "id": "_VtUMOPQ6mwC",
        "outputId": "5234677a-2ca5-4958-aca3-0b6cfbf7c7a1",
        "collapsed": true
      },
      "outputs": [
        {
          "output_type": "stream",
          "name": "stdout",
          "text": [
            "Collecting numpy==1.24.3\n",
            "  Downloading numpy-1.24.3-cp311-cp311-manylinux_2_17_x86_64.manylinux2014_x86_64.whl.metadata (5.6 kB)\n",
            "Downloading numpy-1.24.3-cp311-cp311-manylinux_2_17_x86_64.manylinux2014_x86_64.whl (17.3 MB)\n",
            "\u001b[2K   \u001b[90m━━━━━━━━━━━━━━━━━━━━━━━━━━━━━━━━━━━━━━━━\u001b[0m \u001b[32m17.3/17.3 MB\u001b[0m \u001b[31m64.8 MB/s\u001b[0m eta \u001b[36m0:00:00\u001b[0m\n",
            "\u001b[?25hInstalling collected packages: numpy\n",
            "  Attempting uninstall: numpy\n",
            "    Found existing installation: numpy 2.0.2\n",
            "    Uninstalling numpy-2.0.2:\n",
            "      Successfully uninstalled numpy-2.0.2\n",
            "\u001b[31mERROR: pip's dependency resolver does not currently take into account all the packages that are installed. This behaviour is the source of the following dependency conflicts.\n",
            "jaxlib 0.5.1 requires numpy>=1.25, but you have numpy 1.24.3 which is incompatible.\n",
            "treescope 0.1.9 requires numpy>=1.25.2, but you have numpy 1.24.3 which is incompatible.\n",
            "pymc 5.23.0 requires numpy>=1.25.0, but you have numpy 1.24.3 which is incompatible.\n",
            "thinc 8.3.6 requires numpy<3.0.0,>=2.0.0, but you have numpy 1.24.3 which is incompatible.\n",
            "albucore 0.0.24 requires numpy>=1.24.4, but you have numpy 1.24.3 which is incompatible.\n",
            "tensorflow 2.18.0 requires numpy<2.1.0,>=1.26.0, but you have numpy 1.24.3 which is incompatible.\n",
            "jax 0.5.2 requires numpy>=1.25, but you have numpy 1.24.3 which is incompatible.\n",
            "albumentations 2.0.8 requires numpy>=1.24.4, but you have numpy 1.24.3 which is incompatible.\n",
            "xarray-einstats 0.9.1 requires numpy>=1.25, but you have numpy 1.24.3 which is incompatible.\n",
            "blosc2 3.5.0 requires numpy>=1.26, but you have numpy 1.24.3 which is incompatible.\u001b[0m\u001b[31m\n",
            "\u001b[0mSuccessfully installed numpy-1.24.3\n"
          ]
        },
        {
          "output_type": "display_data",
          "data": {
            "application/vnd.colab-display-data+json": {
              "pip_warning": {
                "packages": [
                  "numpy"
                ]
              },
              "id": "281ca40187b048ca8a4cf9d90975d804"
            }
          },
          "metadata": {}
        }
      ],
      "source": [
        "#Downgrade numpy to a compatible version to make sure that pandas-ta works because it doesn't work with the newest version of numpy atm\n",
        "!pip install numpy==1.24.3 --force-reinstall"
      ]
    },
    {
      "cell_type": "code",
      "source": [
        "pip install alpaca-py pandas ta python-dotenv"
      ],
      "metadata": {
        "colab": {
          "base_uri": "https://localhost:8080/"
        },
        "collapsed": true,
        "id": "av1Rk1ic6qOq",
        "outputId": "7942c9ff-d638-44c3-d479-1290713dd796"
      },
      "execution_count": 1,
      "outputs": [
        {
          "output_type": "stream",
          "name": "stdout",
          "text": [
            "Collecting alpaca-py\n",
            "  Downloading alpaca_py-0.40.2-py3-none-any.whl.metadata (13 kB)\n",
            "Requirement already satisfied: pandas in /usr/local/lib/python3.11/dist-packages (2.2.2)\n",
            "Collecting ta\n",
            "  Downloading ta-0.11.0.tar.gz (25 kB)\n",
            "  Preparing metadata (setup.py) ... \u001b[?25l\u001b[?25hdone\n",
            "Collecting python-dotenv\n",
            "  Downloading python_dotenv-1.1.1-py3-none-any.whl.metadata (24 kB)\n",
            "Requirement already satisfied: msgpack<2.0.0,>=1.0.3 in /usr/local/lib/python3.11/dist-packages (from alpaca-py) (1.1.1)\n",
            "Requirement already satisfied: pydantic<3.0.0,>=2.0.3 in /usr/local/lib/python3.11/dist-packages (from alpaca-py) (2.11.7)\n",
            "Requirement already satisfied: requests<3.0.0,>=2.30.0 in /usr/local/lib/python3.11/dist-packages (from alpaca-py) (2.32.3)\n",
            "Collecting sseclient-py<2.0.0,>=1.7.2 (from alpaca-py)\n",
            "  Downloading sseclient_py-1.8.0-py2.py3-none-any.whl.metadata (2.0 kB)\n",
            "Requirement already satisfied: websockets>=10.4 in /usr/local/lib/python3.11/dist-packages (from alpaca-py) (15.0.1)\n",
            "Requirement already satisfied: numpy>=1.23.2 in /usr/local/lib/python3.11/dist-packages (from pandas) (1.24.3)\n",
            "Requirement already satisfied: python-dateutil>=2.8.2 in /usr/local/lib/python3.11/dist-packages (from pandas) (2.9.0.post0)\n",
            "Requirement already satisfied: pytz>=2020.1 in /usr/local/lib/python3.11/dist-packages (from pandas) (2025.2)\n",
            "Requirement already satisfied: tzdata>=2022.7 in /usr/local/lib/python3.11/dist-packages (from pandas) (2025.2)\n",
            "Requirement already satisfied: annotated-types>=0.6.0 in /usr/local/lib/python3.11/dist-packages (from pydantic<3.0.0,>=2.0.3->alpaca-py) (0.7.0)\n",
            "Requirement already satisfied: pydantic-core==2.33.2 in /usr/local/lib/python3.11/dist-packages (from pydantic<3.0.0,>=2.0.3->alpaca-py) (2.33.2)\n",
            "Requirement already satisfied: typing-extensions>=4.12.2 in /usr/local/lib/python3.11/dist-packages (from pydantic<3.0.0,>=2.0.3->alpaca-py) (4.14.0)\n",
            "Requirement already satisfied: typing-inspection>=0.4.0 in /usr/local/lib/python3.11/dist-packages (from pydantic<3.0.0,>=2.0.3->alpaca-py) (0.4.1)\n",
            "Requirement already satisfied: six>=1.5 in /usr/local/lib/python3.11/dist-packages (from python-dateutil>=2.8.2->pandas) (1.17.0)\n",
            "Requirement already satisfied: charset-normalizer<4,>=2 in /usr/local/lib/python3.11/dist-packages (from requests<3.0.0,>=2.30.0->alpaca-py) (3.4.2)\n",
            "Requirement already satisfied: idna<4,>=2.5 in /usr/local/lib/python3.11/dist-packages (from requests<3.0.0,>=2.30.0->alpaca-py) (3.10)\n",
            "Requirement already satisfied: urllib3<3,>=1.21.1 in /usr/local/lib/python3.11/dist-packages (from requests<3.0.0,>=2.30.0->alpaca-py) (2.4.0)\n",
            "Requirement already satisfied: certifi>=2017.4.17 in /usr/local/lib/python3.11/dist-packages (from requests<3.0.0,>=2.30.0->alpaca-py) (2025.6.15)\n",
            "Downloading alpaca_py-0.40.2-py3-none-any.whl (121 kB)\n",
            "\u001b[2K   \u001b[90m━━━━━━━━━━━━━━━━━━━━━━━━━━━━━━━━━━━━━━━━\u001b[0m \u001b[32m121.8/121.8 kB\u001b[0m \u001b[31m5.4 MB/s\u001b[0m eta \u001b[36m0:00:00\u001b[0m\n",
            "\u001b[?25hDownloading python_dotenv-1.1.1-py3-none-any.whl (20 kB)\n",
            "Downloading sseclient_py-1.8.0-py2.py3-none-any.whl (8.8 kB)\n",
            "Building wheels for collected packages: ta\n",
            "  Building wheel for ta (setup.py) ... \u001b[?25l\u001b[?25hdone\n",
            "  Created wheel for ta: filename=ta-0.11.0-py3-none-any.whl size=29412 sha256=1938a2a0f9dcdca8c7beb581e75e5870665802b2ecb1d35333470fea739f1bb3\n",
            "  Stored in directory: /root/.cache/pip/wheels/a1/d7/29/7781cc5eb9a3659d032d7d15bdd0f49d07d2b24fec29f44bc4\n",
            "Successfully built ta\n",
            "Installing collected packages: sseclient-py, python-dotenv, ta, alpaca-py\n",
            "Successfully installed alpaca-py-0.40.2 python-dotenv-1.1.1 sseclient-py-1.8.0 ta-0.11.0\n"
          ]
        }
      ]
    },
    {
      "cell_type": "code",
      "source": [
        "!pip install pandas-ta"
      ],
      "metadata": {
        "colab": {
          "base_uri": "https://localhost:8080/"
        },
        "id": "11EHkkEk8esj",
        "outputId": "54412b63-89a7-4711-a432-8ba510f5266f"
      },
      "execution_count": 34,
      "outputs": [
        {
          "output_type": "stream",
          "name": "stdout",
          "text": [
            "Collecting pandas-ta\n",
            "  Downloading pandas_ta-0.3.14b.tar.gz (115 kB)\n",
            "\u001b[?25l     \u001b[90m━━━━━━━━━━━━━━━━━━━━━━━━━━━━━━━━━━━━━━━━\u001b[0m \u001b[32m0.0/115.1 kB\u001b[0m \u001b[31m?\u001b[0m eta \u001b[36m-:--:--\u001b[0m\r\u001b[2K     \u001b[91m━━━━━━━━━━━━━━━━━━━━━━━━━━━━━━━━━━━━━━\u001b[0m\u001b[90m╺\u001b[0m \u001b[32m112.6/115.1 kB\u001b[0m \u001b[31m3.9 MB/s\u001b[0m eta \u001b[36m0:00:01\u001b[0m\r\u001b[2K     \u001b[90m━━━━━━━━━━━━━━━━━━━━━━━━━━━━━━━━━━━━━━━\u001b[0m \u001b[32m115.1/115.1 kB\u001b[0m \u001b[31m2.8 MB/s\u001b[0m eta \u001b[36m0:00:00\u001b[0m\n",
            "\u001b[?25h  Preparing metadata (setup.py) ... \u001b[?25l\u001b[?25hdone\n",
            "Requirement already satisfied: pandas in /usr/local/lib/python3.11/dist-packages (from pandas-ta) (2.2.2)\n",
            "Requirement already satisfied: numpy>=1.23.2 in /usr/local/lib/python3.11/dist-packages (from pandas->pandas-ta) (1.24.3)\n",
            "Requirement already satisfied: python-dateutil>=2.8.2 in /usr/local/lib/python3.11/dist-packages (from pandas->pandas-ta) (2.9.0.post0)\n",
            "Requirement already satisfied: pytz>=2020.1 in /usr/local/lib/python3.11/dist-packages (from pandas->pandas-ta) (2025.2)\n",
            "Requirement already satisfied: tzdata>=2022.7 in /usr/local/lib/python3.11/dist-packages (from pandas->pandas-ta) (2025.2)\n",
            "Requirement already satisfied: six>=1.5 in /usr/local/lib/python3.11/dist-packages (from python-dateutil>=2.8.2->pandas->pandas-ta) (1.17.0)\n",
            "Building wheels for collected packages: pandas-ta\n",
            "  Building wheel for pandas-ta (setup.py) ... \u001b[?25l\u001b[?25hdone\n",
            "  Created wheel for pandas-ta: filename=pandas_ta-0.3.14b0-py3-none-any.whl size=218910 sha256=9767d1bf8bd1441a72ae8a328046535ff06eeb1037155172a14d76a1e3b6386f\n",
            "  Stored in directory: /root/.cache/pip/wheels/7f/33/8b/50b245c5c65433cd8f5cb24ac15d97e5a3db2d41a8b6ae957d\n",
            "Successfully built pandas-ta\n",
            "Installing collected packages: pandas-ta\n",
            "Successfully installed pandas-ta-0.3.14b0\n"
          ]
        }
      ]
    },
    {
      "cell_type": "code",
      "source": [
        "import os\n",
        "from datetime import datetime, timedelta\n",
        "import pandas as pd\n",
        "from dotenv import load_dotenv\n",
        "from alpaca.data.historical import StockHistoricalDataClient\n",
        "from alpaca.data.requests import StockBarsRequest\n",
        "from alpaca.data.timeframe import TimeFrame\n",
        "import ta\n",
        "import numpy as np"
      ],
      "metadata": {
        "id": "SZKWL8-w6rJ2"
      },
      "execution_count": 64,
      "outputs": []
    },
    {
      "cell_type": "code",
      "source": [
        "ALPACA_API_KEY = \"PKJ19Q32UZOUOKLX2EJ2\"\n",
        "ALPACA_SECRET_KEY = \"aUTwOhq1ug2rKo0VtmzgBflgcqBHHS3EstiJWFSx\""
      ],
      "metadata": {
        "id": "v0g3Ngli6sS_"
      },
      "execution_count": 3,
      "outputs": []
    },
    {
      "cell_type": "code",
      "source": [
        "#Initialize Alpaca Historical Data Client\n",
        "client = StockHistoricalDataClient(\n",
        "    api_key=ALPACA_API_KEY,\n",
        "    secret_key=ALPACA_SECRET_KEY\n",
        ")\n",
        "# Config\n",
        "symbol = \"SPY\"\n",
        "timeframe = TimeFrame.Minute  # Change to TimeFrame.Day, .Hour, etc. later\n",
        "lookback_days = 7000  # You can increase this later\n",
        "# Pull historical bars\n",
        "start_date = datetime.today() - timedelta(days=lookback_days)\n",
        "request_params = StockBarsRequest(\n",
        "    symbol_or_symbols=symbol,\n",
        "    timeframe=timeframe,\n",
        "    start=start_date\n",
        ")\n"
      ],
      "metadata": {
        "id": "I_MCYbZ86toY"
      },
      "execution_count": 4,
      "outputs": []
    },
    {
      "cell_type": "code",
      "source": [
        "bars = client.get_stock_bars(request_params).df\n",
        "df = bars[bars.index.get_level_values(0) == symbol].copy().reset_index()\n",
        "df.rename(columns={\"timestamp\": \"datetime\"}, inplace=True)"
      ],
      "metadata": {
        "id": "aAwfnWkU6x7D"
      },
      "execution_count": 148,
      "outputs": []
    },
    {
      "cell_type": "code",
      "source": [
        "df = df.resample('120min', on='datetime').agg({\n",
        "    'open': 'first',\n",
        "    'high': 'max',\n",
        "    'low': 'min',\n",
        "    'close': 'last',\n",
        "    'volume': 'sum'\n",
        "}).dropna().reset_index()"
      ],
      "metadata": {
        "id": "FLuSDaN-64Qu"
      },
      "execution_count": 149,
      "outputs": []
    },
    {
      "cell_type": "code",
      "source": [
        "import numpy as np\n",
        "import pandas as pd\n",
        "import matplotlib.pyplot as plt\n",
        "\n",
        "def generate_trend_labels(df, price_col='close', window=7):\n",
        "    df = df.copy()\n",
        "\n",
        "    # Detect local peaks and troughs\n",
        "    df['is_peak'] = ((df[price_col].shift(window) < df[price_col]) &\n",
        "                     (df[price_col].shift(-window) < df[price_col])).fillna(False)\n",
        "\n",
        "    df['is_trough'] = ((df[price_col].shift(window) > df[price_col]) &\n",
        "                       (df[price_col].shift(-window) > df[price_col])).fillna(False)\n",
        "\n",
        "    # Collect reversal points\n",
        "    peaks = df[df['is_peak']].index.tolist()\n",
        "    troughs = df[df['is_trough']].index.tolist()\n",
        "    reversals = sorted(peaks + troughs)\n",
        "    reversals = [i for i in reversals if i > window and i < len(df) - window]\n",
        "\n",
        "    # Label trends between reversals: 1 = uptrend, -1 = downtrend\n",
        "    trend_labels = np.full(len(df), np.nan)\n",
        "    for i in range(len(reversals) - 1):\n",
        "        start = reversals[i]\n",
        "        end = reversals[i + 1]\n",
        "        if df.loc[start, price_col] < df.loc[end, price_col]:\n",
        "            trend_labels[start:end] = 1  # uptrend\n",
        "        else:\n",
        "            trend_labels[start:end] = -1  # downtrend\n",
        "\n",
        "    df['trend_label'] = trend_labels\n",
        "    df = df.drop(columns=['is_peak', 'is_trough'])\n",
        "    df = df.dropna(subset=['trend_label'])\n",
        "    df['trend_label'] = df['trend_label'].astype(int)\n",
        "    df = df.reset_index(drop=True)\n",
        "\n",
        "    return df\n",
        "\n",
        "def plot_trends_only(df, price_col='close', last_n=None):\n",
        "    if last_n is not None:\n",
        "        df = df.tail(last_n).copy()\n",
        "\n",
        "    prices = df[price_col].values\n",
        "    x = np.arange(len(df))\n",
        "    trend_labels = df['trend_label'].values\n",
        "\n",
        "    plt.figure(figsize=(15,6))\n",
        "    plt.plot(x, prices, label='Close Price', color='black')\n",
        "\n",
        "    def find_segments(labels, target_label):\n",
        "        segments = []\n",
        "        start = None\n",
        "        for i, val in enumerate(labels):\n",
        "            if val == target_label:\n",
        "                if start is None:\n",
        "                    start = i\n",
        "            else:\n",
        "                if start is not None:\n",
        "                    segments.append((start, i-1))\n",
        "                    start = None\n",
        "        if start is not None:\n",
        "            segments.append((start, len(labels)-1))\n",
        "        return segments\n",
        "\n",
        "    bullish_segments = find_segments(trend_labels, 1)\n",
        "    bearish_segments = find_segments(trend_labels, -1)\n",
        "\n",
        "    for start, end in bullish_segments:\n",
        "        plt.axvspan(start, end, color='green', alpha=0.1)\n",
        "    for start, end in bearish_segments:\n",
        "        plt.axvspan(start, end, color='red', alpha=0.1)\n",
        "\n",
        "    plt.legend()\n",
        "    plt.title(f'Price with Trend Segments (Last {last_n} rows)' if last_n else 'Full Trend Segments')\n",
        "    plt.xlabel('Index')\n",
        "    plt.ylabel('Price')\n",
        "    plt.show()\n",
        "\n"
      ],
      "metadata": {
        "id": "vJTsjwRf61Sy"
      },
      "execution_count": 150,
      "outputs": []
    },
    {
      "cell_type": "code",
      "source": [
        "# Assuming you have a DataFrame `df` with a 'close' column\n",
        "df = generate_trend_labels(df)\n",
        "plot_trends_only(df, last_n=250)\n"
      ],
      "metadata": {
        "colab": {
          "base_uri": "https://localhost:8080/",
          "height": 536
        },
        "id": "7X4JmgWn_dNy",
        "outputId": "8ee3e004-76fd-4f3e-a868-07a8c52d1aca"
      },
      "execution_count": 151,
      "outputs": [
        {
          "output_type": "display_data",
          "data": {
            "text/plain": [
              "<Figure size 1500x600 with 1 Axes>"
            ],
            "image/png": "[encoded data removed]"
          },
          "metadata": {}
        }
      ]
    },
    {
      "cell_type": "code",
      "source": [
        "df.reset_index(drop=True, inplace=True)"
      ],
      "metadata": {
        "id": "UgY27UklEygk"
      },
      "execution_count": 101,
      "outputs": []
    },
    {
      "cell_type": "code",
      "source": [
        "# Set datetime as the index (important for VWAP)\n",
        "df.set_index('datetime', inplace=True)"
      ],
      "metadata": {
        "id": "YNCnTp987Mo3"
      },
      "execution_count": 152,
      "outputs": []
    },
    {
      "cell_type": "code",
      "source": [
        "# Sort the DataFrame by datetime to ensure it is ordered\n",
        "df.sort_index(inplace=True)"
      ],
      "metadata": {
        "id": "12jS7zBV7Nee"
      },
      "execution_count": 153,
      "outputs": []
    },
    {
      "cell_type": "code",
      "source": [
        "import ta\n",
        "import pandas_ta as ta"
      ],
      "metadata": {
        "id": "ABOPH8X58VWv"
      },
      "execution_count": 154,
      "outputs": []
    },
    {
      "cell_type": "code",
      "source": [
        "#PRICE ACTION FEATURES\n",
        "df['price_change_pct'] = df['close'].pct_change()\n",
        "df['momentum_5'] = df['close'] - df['close'].shift(5)\n",
        "df['momentum_10'] = df['close'] - df['close'].shift(10)\n",
        "df['rolling_return_5'] = df['close'].pct_change(periods=5)\n",
        "df['rolling_return_10'] = df['close'].pct_change(periods=10)"
      ],
      "metadata": {
        "id": "6NSg4RC57Uh6"
      },
      "execution_count": 155,
      "outputs": []
    },
    {
      "cell_type": "code",
      "source": [
        "#MOVING AVERAGES\n",
        "df['sma_50'] = ta.sma(df['close'], length=50)"
      ],
      "metadata": {
        "id": "RIgA7vNj7ZBU"
      },
      "execution_count": 156,
      "outputs": []
    },
    {
      "cell_type": "code",
      "source": [
        "#VOLATILITY METRICS\n",
        "df['std_5'] = df['close'].rolling(5).std()\n",
        "df['std_10'] = df['close'].rolling(10).std()\n",
        "df['std_20'] = df['close'].rolling(20).std()\n",
        "df['atr'] = ta.atr(df['high'], df['low'], df['close'], length=14)\n"
      ],
      "metadata": {
        "id": "j5kpzJxi7bf0"
      },
      "execution_count": 157,
      "outputs": []
    },
    {
      "cell_type": "code",
      "source": [
        "#MACD FEATURES\n",
        "macd = ta.macd(df['close'])\n",
        "df['macd'] = macd['MACD_12_26_9']\n",
        "df['macd_signal'] = macd['MACDs_12_26_9']\n",
        "df['macd_hist'] = macd['MACDh_12_26_9']\n",
        "df['macd_cross'] = (df['macd'] > df['macd_signal']).astype(int)\n"
      ],
      "metadata": {
        "id": "t7hx7GM57c9s"
      },
      "execution_count": 158,
      "outputs": []
    },
    {
      "cell_type": "code",
      "source": [
        "#VOLUME FEATURES\n",
        "df['vol_ma_20'] = df['volume'].rolling(20).mean()\n",
        "df['vol_spike_ratio'] = df['volume'] / df['vol_ma_20']\n"
      ],
      "metadata": {
        "id": "-dh7hggS7fku"
      },
      "execution_count": 159,
      "outputs": []
    },
    {
      "cell_type": "code",
      "source": [
        "#Calculate ADX and its components\n",
        "adx = ta.adx(df['high'], df['low'], df['close'], length=14)\n",
        "#Add to the main DataFrame\n",
        "df['adx'] = adx['ADX_14']\n",
        "df['plus_di'] = adx['DMP_14']   # +DI (Directional Movement Plus)\n",
        "df['minus_di'] = adx['DMN_14']  # -DI (Directional Movement Minus)"
      ],
      "metadata": {
        "id": "dShW3gCz7hTd"
      },
      "execution_count": 160,
      "outputs": []
    },
    {
      "cell_type": "code",
      "source": [
        "# Calculate VWAP manually (simplified version)\n",
        "df['typical_price'] = (df['high'] + df['low'] + df['close']) / 3\n",
        "df['vwap'] = (df['typical_price'] * df['volume']).cumsum() / df['volume'].cumsum()"
      ],
      "metadata": {
        "id": "lZsdf1XG7iRE"
      },
      "execution_count": 161,
      "outputs": []
    },
    {
      "cell_type": "code",
      "source": [
        "df.loc[:, 'macd_lag1'] = df['macd'].shift(1)\n",
        "df.loc[:, 'close_lag1'] = df['close'].shift(1)\n",
        "df.loc[:, 'volume_lag1'] = df['volume'].shift(1)"
      ],
      "metadata": {
        "id": "l3RPgBTm7jCS"
      },
      "execution_count": 162,
      "outputs": []
    },
    {
      "cell_type": "code",
      "source": [
        "df = df.dropna()\n"
      ],
      "metadata": {
        "id": "U6RT20YU8xrY"
      },
      "execution_count": 163,
      "outputs": []
    },
    {
      "cell_type": "code",
      "source": [
        "#Find missing values\n",
        "print(df.isna().sum())"
      ],
      "metadata": {
        "colab": {
          "base_uri": "https://localhost:8080/"
        },
        "id": "PfiozQMu8qHB",
        "outputId": "5f939f51-9f29-4c9b-fbf4-ff846befc9bc"
      },
      "execution_count": 165,
      "outputs": [
        {
          "output_type": "stream",
          "name": "stdout",
          "text": [
            "open                 0\n",
            "high                 0\n",
            "low                  0\n",
            "close                0\n",
            "volume               0\n",
            "trend_label          0\n",
            "price_change_pct     0\n",
            "momentum_5           0\n",
            "momentum_10          0\n",
            "rolling_return_5     0\n",
            "rolling_return_10    0\n",
            "sma_50               0\n",
            "std_5                0\n",
            "std_10               0\n",
            "std_20               0\n",
            "atr                  0\n",
            "macd                 0\n",
            "macd_signal          0\n",
            "macd_hist            0\n",
            "macd_cross           0\n",
            "vol_ma_20            0\n",
            "vol_spike_ratio      0\n",
            "adx                  0\n",
            "plus_di              0\n",
            "minus_di             0\n",
            "typical_price        0\n",
            "vwap                 0\n",
            "macd_lag1            0\n",
            "close_lag1           0\n",
            "volume_lag1          0\n",
            "dtype: int64\n"
          ]
        }
      ]
    },
    {
      "cell_type": "code",
      "source": [
        "# Assume df is your DataFrame\n",
        "all_columns = df.columns\n",
        "print(all_columns)"
      ],
      "metadata": {
        "colab": {
          "base_uri": "https://localhost:8080/"
        },
        "id": "jInLqFkQEgr9",
        "outputId": "01aac1a5-6e25-430b-8829-d5de8a65e5ed"
      },
      "execution_count": 166,
      "outputs": [
        {
          "output_type": "stream",
          "name": "stdout",
          "text": [
            "Index(['open', 'high', 'low', 'close', 'volume', 'trend_label',\n",
            "       'price_change_pct', 'momentum_5', 'momentum_10', 'rolling_return_5',\n",
            "       'rolling_return_10', 'sma_50', 'std_5', 'std_10', 'std_20', 'atr',\n",
            "       'macd', 'macd_signal', 'macd_hist', 'macd_cross', 'vol_ma_20',\n",
            "       'vol_spike_ratio', 'adx', 'plus_di', 'minus_di', 'typical_price',\n",
            "       'vwap', 'macd_lag1', 'close_lag1', 'volume_lag1'],\n",
            "      dtype='object')\n"
          ]
        }
      ]
    },
    {
      "cell_type": "code",
      "source": [
        "def assign_reversal_type(row):\n",
        "    if row['trend_label'] == 1:\n",
        "        return 1  # Bullish\n",
        "    elif row['trend_label'] == -1:\n",
        "        return 2  # Bearish\n",
        "    else:\n",
        "        return 0  # No reversal\n",
        "\n",
        "df['trend_label'] = df.apply(assign_reversal_type, axis=1)\n",
        "\n",
        "# Optional: Check class distribution\n",
        "print(df['trend_label'].value_counts())"
      ],
      "metadata": {
        "colab": {
          "base_uri": "https://localhost:8080/"
        },
        "id": "3dDdvX3JIEM9",
        "outputId": "2d2978f0-8779-4257-c410-160f06d86789"
      },
      "execution_count": 167,
      "outputs": [
        {
          "output_type": "stream",
          "name": "stdout",
          "text": [
            "trend_label\n",
            "1    10773\n",
            "2     8717\n",
            "Name: count, dtype: int64\n"
          ]
        }
      ]
    },
    {
      "cell_type": "code",
      "source": [
        "X = df.drop(['trend_label',], axis=1, errors='ignore')\n",
        "y = df['trend_label']\n"
      ],
      "metadata": {
        "id": "7kYnzqA8Ers4"
      },
      "execution_count": 174,
      "outputs": []
    },
    {
      "cell_type": "code",
      "source": [
        "df.head()"
      ],
      "metadata": {
        "colab": {
          "base_uri": "https://localhost:8080/",
          "height": 374
        },
        "id": "ON6iVj6CDIoq",
        "outputId": "d8df8093-72f1-4a81-c873-eedfef26fd76"
      },
      "execution_count": 54,
      "outputs": [
        {
          "output_type": "execute_result",
          "data": {
            "text/plain": [
              "                             open    high     low   close  volume        rsi  \\\n",
              "datetime                                                                       \n",
              "2016-01-05 09:15:00+00:00  200.67  200.67  200.50  200.50  1735.0  16.936900   \n",
              "2016-01-05 09:20:00+00:00  200.49  200.49  200.33  200.41  3867.0  15.854177   \n",
              "2016-01-05 09:25:00+00:00  200.44  200.44  200.40  200.40   288.0  15.733823   \n",
              "2016-01-05 09:30:00+00:00  200.36  200.47  200.36  200.47  5725.0  20.295075   \n",
              "2016-01-05 09:35:00+00:00  200.48  200.60  200.48  200.60   328.0  28.080906   \n",
              "\n",
              "                              rsi_14      rsi_7     rsi_21  price_change_pct  \\\n",
              "datetime                                                                       \n",
              "2016-01-05 09:15:00+00:00  16.936900   6.654033  27.584708         -0.000797   \n",
              "2016-01-05 09:20:00+00:00  15.854177   5.997532  26.299624         -0.000449   \n",
              "2016-01-05 09:25:00+00:00  15.733823   5.921795  26.157455         -0.000050   \n",
              "2016-01-05 09:30:00+00:00  20.295075  14.716939  28.979268          0.000349   \n",
              "2016-01-05 09:35:00+00:00  28.080906  29.081862  33.904516          0.000648   \n",
              "\n",
              "                           ...  vol_spike_ratio        adx    plus_di  \\\n",
              "datetime                   ...                                          \n",
              "2016-01-05 09:15:00+00:00  ...         0.070230  36.375632   8.084378   \n",
              "2016-01-05 09:20:00+00:00  ...         0.156108  39.234349   7.433842   \n",
              "2016-01-05 09:25:00+00:00  ...         0.011728  41.888872   7.285293   \n",
              "2016-01-05 09:30:00+00:00  ...         0.232133  44.410574   6.878242   \n",
              "2016-01-05 09:35:00+00:00  ...         0.013420  45.417341  13.060603   \n",
              "\n",
              "                            minus_di  typical_price        vwap   rsi_lag1  \\\n",
              "datetime                                                                     \n",
              "2016-01-05 09:15:00+00:00  51.669412     200.556667  199.841635  19.088928   \n",
              "2016-01-05 09:20:00+00:00  55.558495     200.410000  199.841645  16.936900   \n",
              "2016-01-05 09:25:00+00:00  54.448285     200.413333  199.841646  15.854177   \n",
              "2016-01-05 09:30:00+00:00  53.437840     200.433333  199.841661  15.733823   \n",
              "2016-01-05 09:35:00+00:00  49.890098     200.560000  199.841662  20.295075   \n",
              "\n",
              "                           macd_lag1  close_lag1  volume_lag1  \n",
              "datetime                                                       \n",
              "2016-01-05 09:15:00+00:00  -0.130647      200.66       4294.0  \n",
              "2016-01-05 09:20:00+00:00  -0.185475      200.50       1735.0  \n",
              "2016-01-05 09:25:00+00:00  -0.233498      200.41       3867.0  \n",
              "2016-01-05 09:30:00+00:00  -0.269259      200.40        288.0  \n",
              "2016-01-05 09:35:00+00:00  -0.288624      200.47       5725.0  \n",
              "\n",
              "[5 rows x 38 columns]"
            ],
            "text/html": [
              "\n",
              "  <div id=\"df-59ce6d31-c4b6-48b4-a2e5-6164b277bb50\" class=\"colab-df-container\">\n",
              "    <div>\n",
              "<style scoped>\n",
              "    .dataframe tbody tr th:only-of-type {\n",
              "        vertical-align: middle;\n",
              "    }\n",
              "\n",
              "    .dataframe tbody tr th {\n",
              "        vertical-align: top;\n",
              "    }\n",
              "\n",
              "    .dataframe thead th {\n",
              "        text-align: right;\n",
              "    }\n",
              "</style>\n",
              "<table border=\"1\" class=\"dataframe\">\n",
              "  <thead>\n",
              "    <tr style=\"text-align: right;\">\n",
              "      <th></th>\n",
              "      <th>open</th>\n",
              "      <th>high</th>\n",
              "      <th>low</th>\n",
              "      <th>close</th>\n",
              "      <th>volume</th>\n",
              "      <th>rsi</th>\n",
              "      <th>rsi_14</th>\n",
              "      <th>rsi_7</th>\n",
              "      <th>rsi_21</th>\n",
              "      <th>price_change_pct</th>\n",
              "      <th>...</th>\n",
              "      <th>vol_spike_ratio</th>\n",
              "      <th>adx</th>\n",
              "      <th>plus_di</th>\n",
              "      <th>minus_di</th>\n",
              "      <th>typical_price</th>\n",
              "      <th>vwap</th>\n",
              "      <th>rsi_lag1</th>\n",
              "      <th>macd_lag1</th>\n",
              "      <th>close_lag1</th>\n",
              "      <th>volume_lag1</th>\n",
              "    </tr>\n",
              "    <tr>\n",
              "      <th>datetime</th>\n",
              "      <th></th>\n",
              "      <th></th>\n",
              "      <th></th>\n",
              "      <th></th>\n",
              "      <th></th>\n",
              "      <th></th>\n",
              "      <th></th>\n",
              "      <th></th>\n",
              "      <th></th>\n",
              "      <th></th>\n",
              "      <th></th>\n",
              "      <th></th>\n",
              "      <th></th>\n",
              "      <th></th>\n",
              "      <th></th>\n",
              "      <th></th>\n",
              "      <th></th>\n",
              "      <th></th>\n",
              "      <th></th>\n",
              "      <th></th>\n",
              "      <th></th>\n",
              "    </tr>\n",
              "  </thead>\n",
              "  <tbody>\n",
              "    <tr>\n",
              "      <th>2016-01-05 09:15:00+00:00</th>\n",
              "      <td>200.67</td>\n",
              "      <td>200.67</td>\n",
              "      <td>200.50</td>\n",
              "      <td>200.50</td>\n",
              "      <td>1735.0</td>\n",
              "      <td>16.936900</td>\n",
              "      <td>16.936900</td>\n",
              "      <td>6.654033</td>\n",
              "      <td>27.584708</td>\n",
              "      <td>-0.000797</td>\n",
              "      <td>...</td>\n",
              "      <td>0.070230</td>\n",
              "      <td>36.375632</td>\n",
              "      <td>8.084378</td>\n",
              "      <td>51.669412</td>\n",
              "      <td>200.556667</td>\n",
              "      <td>199.841635</td>\n",
              "      <td>19.088928</td>\n",
              "      <td>-0.130647</td>\n",
              "      <td>200.66</td>\n",
              "      <td>4294.0</td>\n",
              "    </tr>\n",
              "    <tr>\n",
              "      <th>2016-01-05 09:20:00+00:00</th>\n",
              "      <td>200.49</td>\n",
              "      <td>200.49</td>\n",
              "      <td>200.33</td>\n",
              "      <td>200.41</td>\n",
              "      <td>3867.0</td>\n",
              "      <td>15.854177</td>\n",
              "      <td>15.854177</td>\n",
              "      <td>5.997532</td>\n",
              "      <td>26.299624</td>\n",
              "      <td>-0.000449</td>\n",
              "      <td>...</td>\n",
              "      <td>0.156108</td>\n",
              "      <td>39.234349</td>\n",
              "      <td>7.433842</td>\n",
              "      <td>55.558495</td>\n",
              "      <td>200.410000</td>\n",
              "      <td>199.841645</td>\n",
              "      <td>16.936900</td>\n",
              "      <td>-0.185475</td>\n",
              "      <td>200.50</td>\n",
              "      <td>1735.0</td>\n",
              "    </tr>\n",
              "    <tr>\n",
              "      <th>2016-01-05 09:25:00+00:00</th>\n",
              "      <td>200.44</td>\n",
              "      <td>200.44</td>\n",
              "      <td>200.40</td>\n",
              "      <td>200.40</td>\n",
              "      <td>288.0</td>\n",
              "      <td>15.733823</td>\n",
              "      <td>15.733823</td>\n",
              "      <td>5.921795</td>\n",
              "      <td>26.157455</td>\n",
              "      <td>-0.000050</td>\n",
              "      <td>...</td>\n",
              "      <td>0.011728</td>\n",
              "      <td>41.888872</td>\n",
              "      <td>7.285293</td>\n",
              "      <td>54.448285</td>\n",
              "      <td>200.413333</td>\n",
              "      <td>199.841646</td>\n",
              "      <td>15.854177</td>\n",
              "      <td>-0.233498</td>\n",
              "      <td>200.41</td>\n",
              "      <td>3867.0</td>\n",
              "    </tr>\n",
              "    <tr>\n",
              "      <th>2016-01-05 09:30:00+00:00</th>\n",
              "      <td>200.36</td>\n",
              "      <td>200.47</td>\n",
              "      <td>200.36</td>\n",
              "      <td>200.47</td>\n",
              "      <td>5725.0</td>\n",
              "      <td>20.295075</td>\n",
              "      <td>20.295075</td>\n",
              "      <td>14.716939</td>\n",
              "      <td>28.979268</td>\n",
              "      <td>0.000349</td>\n",
              "      <td>...</td>\n",
              "      <td>0.232133</td>\n",
              "      <td>44.410574</td>\n",
              "      <td>6.878242</td>\n",
              "      <td>53.437840</td>\n",
              "      <td>200.433333</td>\n",
              "      <td>199.841661</td>\n",
              "      <td>15.733823</td>\n",
              "      <td>-0.269259</td>\n",
              "      <td>200.40</td>\n",
              "      <td>288.0</td>\n",
              "    </tr>\n",
              "    <tr>\n",
              "      <th>2016-01-05 09:35:00+00:00</th>\n",
              "      <td>200.48</td>\n",
              "      <td>200.60</td>\n",
              "      <td>200.48</td>\n",
              "      <td>200.60</td>\n",
              "      <td>328.0</td>\n",
              "      <td>28.080906</td>\n",
              "      <td>28.080906</td>\n",
              "      <td>29.081862</td>\n",
              "      <td>33.904516</td>\n",
              "      <td>0.000648</td>\n",
              "      <td>...</td>\n",
              "      <td>0.013420</td>\n",
              "      <td>45.417341</td>\n",
              "      <td>13.060603</td>\n",
              "      <td>49.890098</td>\n",
              "      <td>200.560000</td>\n",
              "      <td>199.841662</td>\n",
              "      <td>20.295075</td>\n",
              "      <td>-0.288624</td>\n",
              "      <td>200.47</td>\n",
              "      <td>5725.0</td>\n",
              "    </tr>\n",
              "  </tbody>\n",
              "</table>\n",
              "<p>5 rows × 38 columns</p>\n",
              "</div>\n",
              "    <div class=\"colab-df-buttons\">\n",
              "\n",
              "  <div class=\"colab-df-container\">\n",
              "    <button class=\"colab-df-convert\" onclick=\"convertToInteractive('df-59ce6d31-c4b6-48b4-a2e5-6164b277bb50')\"\n",
              "            title=\"Convert this dataframe to an interactive table.\"\n",
              "            style=\"display:none;\">\n",
              "\n",
              "  <svg xmlns=\"http://www.w3.org/2000/svg\" height=\"24px\" viewBox=\"0 -960 960 960\">\n",
              "    <path d=\"M120-120v-720h720v720H120Zm60-500h600v-160H180v160Zm220 220h160v-160H400v160Zm0 220h160v-160H400v160ZM180-400h160v-160H180v160Zm440 0h160v-160H620v160ZM180-180h160v-160H180v160Zm440 0h160v-160H620v160Z\"/>\n",
              "  </svg>\n",
              "    </button>\n",
              "\n",
              "  <style>\n",
              "    .colab-df-container {\n",
              "      display:flex;\n",
              "      gap: 12px;\n",
              "    }\n",
              "\n",
              "    .colab-df-convert {\n",
              "      background-color: #E8F0FE;\n",
              "      border: none;\n",
              "      border-radius: 50%;\n",
              "      cursor: pointer;\n",
              "      display: none;\n",
              "      fill: #1967D2;\n",
              "      height: 32px;\n",
              "      padding: 0 0 0 0;\n",
              "      width: 32px;\n",
              "    }\n",
              "\n",
              "    .colab-df-convert:hover {\n",
              "      background-color: #E2EBFA;\n",
              "      box-shadow: 0px 1px 2px rgba(60, 64, 67, 0.3), 0px 1px 3px 1px rgba(60, 64, 67, 0.15);\n",
              "      fill: #174EA6;\n",
              "    }\n",
              "\n",
              "    .colab-df-buttons div {\n",
              "      margin-bottom: 4px;\n",
              "    }\n",
              "\n",
              "    [theme=dark] .colab-df-convert {\n",
              "      background-color: #3B4455;\n",
              "      fill: #D2E3FC;\n",
              "    }\n",
              "\n",
              "    [theme=dark] .colab-df-convert:hover {\n",
              "      background-color: #434B5C;\n",
              "      box-shadow: 0px 1px 3px 1px rgba(0, 0, 0, 0.15);\n",
              "      filter: drop-shadow(0px 1px 2px rgba(0, 0, 0, 0.3));\n",
              "      fill: #FFFFFF;\n",
              "    }\n",
              "  </style>\n",
              "\n",
              "    <script>\n",
              "      const buttonEl =\n",
              "        document.querySelector('#df-59ce6d31-c4b6-48b4-a2e5-6164b277bb50 button.colab-df-convert');\n",
              "      buttonEl.style.display =\n",
              "        google.colab.kernel.accessAllowed ? 'block' : 'none';\n",
              "\n",
              "      async function convertToInteractive(key) {\n",
              "        const element = document.querySelector('#df-59ce6d31-c4b6-48b4-a2e5-6164b277bb50');\n",
              "        const dataTable =\n",
              "          await google.colab.kernel.invokeFunction('convertToInteractive',\n",
              "                                                    [key], {});\n",
              "        if (!dataTable) return;\n",
              "\n",
              "        const docLinkHtml = 'Like what you see? Visit the ' +\n",
              "          '<a target=\"_blank\" href=https://colab.research.google.com/notebooks/data_table.ipynb>data table notebook</a>'\n",
              "          + ' to learn more about interactive tables.';\n",
              "        element.innerHTML = '';\n",
              "        dataTable['output_type'] = 'display_data';\n",
              "        await google.colab.output.renderOutput(dataTable, element);\n",
              "        const docLink = document.createElement('div');\n",
              "        docLink.innerHTML = docLinkHtml;\n",
              "        element.appendChild(docLink);\n",
              "      }\n",
              "    </script>\n",
              "  </div>\n",
              "\n",
              "\n",
              "    <div id=\"df-43150b67-beb5-4cdb-ab21-cacc42982439\">\n",
              "      <button class=\"colab-df-quickchart\" onclick=\"quickchart('df-43150b67-beb5-4cdb-ab21-cacc42982439')\"\n",
              "                title=\"Suggest charts\"\n",
              "                style=\"display:none;\">\n",
              "\n",
              "<svg xmlns=\"http://www.w3.org/2000/svg\" height=\"24px\"viewBox=\"0 0 24 24\"\n",
              "     width=\"24px\">\n",
              "    <g>\n",
              "        <path d=\"M19 3H5c-1.1 0-2 .9-2 2v14c0 1.1.9 2 2 2h14c1.1 0 2-.9 2-2V5c0-1.1-.9-2-2-2zM9 17H7v-7h2v7zm4 0h-2V7h2v10zm4 0h-2v-4h2v4z\"/>\n",
              "    </g>\n",
              "</svg>\n",
              "      </button>\n",
              "\n",
              "<style>\n",
              "  .colab-df-quickchart {\n",
              "      --bg-color: #E8F0FE;\n",
              "      --fill-color: #1967D2;\n",
              "      --hover-bg-color: #E2EBFA;\n",
              "      --hover-fill-color: #174EA6;\n",
              "      --disabled-fill-color: #AAA;\n",
              "      --disabled-bg-color: #DDD;\n",
              "  }\n",
              "\n",
              "  [theme=dark] .colab-df-quickchart {\n",
              "      --bg-color: #3B4455;\n",
              "      --fill-color: #D2E3FC;\n",
              "      --hover-bg-color: #434B5C;\n",
              "      --hover-fill-color: #FFFFFF;\n",
              "      --disabled-bg-color: #3B4455;\n",
              "      --disabled-fill-color: #666;\n",
              "  }\n",
              "\n",
              "  .colab-df-quickchart {\n",
              "    background-color: var(--bg-color);\n",
              "    border: none;\n",
              "    border-radius: 50%;\n",
              "    cursor: pointer;\n",
              "    display: none;\n",
              "    fill: var(--fill-color);\n",
              "    height: 32px;\n",
              "    padding: 0;\n",
              "    width: 32px;\n",
              "  }\n",
              "\n",
              "  .colab-df-quickchart:hover {\n",
              "    background-color: var(--hover-bg-color);\n",
              "    box-shadow: 0 1px 2px rgba(60, 64, 67, 0.3), 0 1px 3px 1px rgba(60, 64, 67, 0.15);\n",
              "    fill: var(--button-hover-fill-color);\n",
              "  }\n",
              "\n",
              "  .colab-df-quickchart-complete:disabled,\n",
              "  .colab-df-quickchart-complete:disabled:hover {\n",
              "    background-color: var(--disabled-bg-color);\n",
              "    fill: var(--disabled-fill-color);\n",
              "    box-shadow: none;\n",
              "  }\n",
              "\n",
              "  .colab-df-spinner {\n",
              "    border: 2px solid var(--fill-color);\n",
              "    border-color: transparent;\n",
              "    border-bottom-color: var(--fill-color);\n",
              "    animation:\n",
              "      spin 1s steps(1) infinite;\n",
              "  }\n",
              "\n",
              "  @keyframes spin {\n",
              "    0% {\n",
              "      border-color: transparent;\n",
              "      border-bottom-color: var(--fill-color);\n",
              "      border-left-color: var(--fill-color);\n",
              "    }\n",
              "    20% {\n",
              "      border-color: transparent;\n",
              "      border-left-color: var(--fill-color);\n",
              "      border-top-color: var(--fill-color);\n",
              "    }\n",
              "    30% {\n",
              "      border-color: transparent;\n",
              "      border-left-color: var(--fill-color);\n",
              "      border-top-color: var(--fill-color);\n",
              "      border-right-color: var(--fill-color);\n",
              "    }\n",
              "    40% {\n",
              "      border-color: transparent;\n",
              "      border-right-color: var(--fill-color);\n",
              "      border-top-color: var(--fill-color);\n",
              "    }\n",
              "    60% {\n",
              "      border-color: transparent;\n",
              "      border-right-color: var(--fill-color);\n",
              "    }\n",
              "    80% {\n",
              "      border-color: transparent;\n",
              "      border-right-color: var(--fill-color);\n",
              "      border-bottom-color: var(--fill-color);\n",
              "    }\n",
              "    90% {\n",
              "      border-color: transparent;\n",
              "      border-bottom-color: var(--fill-color);\n",
              "    }\n",
              "  }\n",
              "</style>\n",
              "\n",
              "      <script>\n",
              "        async function quickchart(key) {\n",
              "          const quickchartButtonEl =\n",
              "            document.querySelector('#' + key + ' button');\n",
              "          quickchartButtonEl.disabled = true;  // To prevent multiple clicks.\n",
              "          quickchartButtonEl.classList.add('colab-df-spinner');\n",
              "          try {\n",
              "            const charts = await google.colab.kernel.invokeFunction(\n",
              "                'suggestCharts', [key], {});\n",
              "          } catch (error) {\n",
              "            console.error('Error during call to suggestCharts:', error);\n",
              "          }\n",
              "          quickchartButtonEl.classList.remove('colab-df-spinner');\n",
              "          quickchartButtonEl.classList.add('colab-df-quickchart-complete');\n",
              "        }\n",
              "        (() => {\n",
              "          let quickchartButtonEl =\n",
              "            document.querySelector('#df-43150b67-beb5-4cdb-ab21-cacc42982439 button');\n",
              "          quickchartButtonEl.style.display =\n",
              "            google.colab.kernel.accessAllowed ? 'block' : 'none';\n",
              "        })();\n",
              "      </script>\n",
              "    </div>\n",
              "\n",
              "    </div>\n",
              "  </div>\n"
            ],
            "application/vnd.google.colaboratory.intrinsic+json": {
              "type": "dataframe",
              "variable_name": "df"
            }
          },
          "metadata": {},
          "execution_count": 54
        }
      ]
    },
    {
      "cell_type": "code",
      "source": [
        "from sklearn.model_selection import train_test_split\n",
        "from sklearn.preprocessing import StandardScaler\n",
        "\n",
        "X_train, X_test, y_train, y_test = train_test_split(\n",
        "    X, y, test_size=0.2, random_state=42, stratify=y\n",
        ")\n",
        "\n",
        "scaler = StandardScaler()\n",
        "X_train_scaled = scaler.fit_transform(X_train)\n",
        "X_test_scaled = scaler.transform(X_test)"
      ],
      "metadata": {
        "id": "zC62a6R2_Nd2"
      },
      "execution_count": 175,
      "outputs": []
    },
    {
      "cell_type": "code",
      "source": [
        "from sklearn.ensemble import RandomForestClassifier\n",
        "from sklearn.metrics import classification_report, confusion_matrix\n",
        "\n",
        "model = RandomForestClassifier(\n",
        "    n_estimators=100,\n",
        "    class_weight={1:1,2:2},\n",
        "    random_state=42\n",
        ")\n",
        "model.fit(X_train_scaled, y_train)\n",
        "y_pred = model.predict(X_test_scaled)\n",
        "\n",
        "print(confusion_matrix(y_test, y_pred))\n",
        "print(classification_report(y_test, y_pred, zero_division=0))"
      ],
      "metadata": {
        "colab": {
          "base_uri": "https://localhost:8080/"
        },
        "id": "8Jaw2zH1_Pbt",
        "outputId": "39cc1e2c-6ab3-4132-be0b-103cbd25676f"
      },
      "execution_count": 172,
      "outputs": [
        {
          "output_type": "stream",
          "name": "stdout",
          "text": [
            "[[1632  523]\n",
            " [ 905  838]]\n",
            "              precision    recall  f1-score   support\n",
            "\n",
            "           1       0.64      0.76      0.70      2155\n",
            "           2       0.62      0.48      0.54      1743\n",
            "\n",
            "    accuracy                           0.63      3898\n",
            "   macro avg       0.63      0.62      0.62      3898\n",
            "weighted avg       0.63      0.63      0.63      3898\n",
            "\n"
          ]
        }
      ]
    },
    {
      "cell_type": "code",
      "source": [
        "import torch\n",
        "from torch.utils.data import DataLoader, TensorDataset\n",
        "\n",
        "# Convert to PyTorch tensors\n",
        "X_train_tensor = torch.tensor(X_train_scaled, dtype=torch.float32)\n",
        "y_train_tensor = torch.tensor(y_train.values, dtype=torch.long)  # class labels as integers\n",
        "\n",
        "X_test_tensor = torch.tensor(X_test_scaled, dtype=torch.float32)\n",
        "y_test_tensor = torch.tensor(y_test.values, dtype=torch.long)\n",
        "\n",
        "# Create DataLoaders\n",
        "train_dataset = TensorDataset(X_train_tensor, y_train_tensor)\n",
        "test_dataset = TensorDataset(X_test_tensor, y_test_tensor)\n",
        "\n",
        "train_loader = DataLoader(train_dataset, batch_size=64, shuffle=True)\n",
        "test_loader = DataLoader(test_dataset, batch_size=64)\n"
      ],
      "metadata": {
        "id": "a_dD-WSvCuTc"
      },
      "execution_count": 179,
      "outputs": []
    },
    {
      "cell_type": "code",
      "source": [
        "import torch.nn as nn\n",
        "import torch.nn.functional as F\n",
        "\n",
        "class ReversalClassifier(nn.Module):\n",
        "    def __init__(self, input_dim):\n",
        "        super(ReversalClassifier, self).__init__()\n",
        "        self.fc1 = nn.Linear(input_dim, 64)\n",
        "        self.fc2 = nn.Linear(64, 32)\n",
        "        self.out = nn.Linear(32, 3)  # 3 classes: 0, 1, 2\n",
        "\n",
        "    def forward(self, x):\n",
        "        x = F.relu(self.fc1(x))\n",
        "        x = F.relu(self.fc2(x))\n",
        "        return self.out(x)\n"
      ],
      "metadata": {
        "id": "N9WlpPQZCvlu"
      },
      "execution_count": 180,
      "outputs": []
    },
    {
      "cell_type": "code",
      "source": [
        "from sklearn.utils.class_weight import compute_class_weight\n",
        "\n",
        "class_weights = compute_class_weight('balanced', classes=np.unique(y_train), y=y_train)\n",
        "class_weights_dict = {i: weight for i, weight in enumerate(class_weights)}\n",
        "\n",
        "criterion = nn.CrossEntropyLoss(weight=torch.tensor(list(class_weights_dict.values())).to(device))\n"
      ],
      "metadata": {
        "id": "vm8OkBnvTVZM"
      },
      "execution_count": 185,
      "outputs": []
    },
    {
      "cell_type": "code",
      "source": [
        "import torch.nn as nn\n",
        "import torch.nn.functional as F\n",
        "\n",
        "class ReversalClassifier(nn.Module):\n",
        "    def __init__(self, input_dim):\n",
        "        super(ReversalClassifier, self).__init__()\n",
        "        self.fc1 = nn.Linear(input_dim, 128)\n",
        "        self.fc2 = nn.Linear(128, 64)\n",
        "        self.fc3 = nn.Linear(64, 32)\n",
        "        self.out = nn.Linear(32, 3)\n",
        "\n",
        "        self.dropout = nn.Dropout(0.3)\n",
        "\n",
        "    def forward(self, x):\n",
        "        x = F.relu(self.fc1(x))\n",
        "        x = self.dropout(x)\n",
        "        x = F.relu(self.fc2(x))\n",
        "        x = self.dropout(x)\n",
        "        x = F.relu(self.fc3(x))\n",
        "        x = self.out(x)\n",
        "        return x\n"
      ],
      "metadata": {
        "id": "GFlAQ4vBTZYz"
      },
      "execution_count": 192,
      "outputs": []
    },
    {
      "cell_type": "code",
      "source": [
        "from sklearn.utils import resample\n",
        "\n",
        "df_balanced = pd.concat([\n",
        "    df[df['trend_label'] == 1],\n",
        "    resample(df[df['trend_label'] == 2], replace=True, n_samples=df['trend_label'].value_counts()[1])\n",
        "])\n"
      ],
      "metadata": {
        "id": "ZllZ-On1TaZJ"
      },
      "execution_count": 193,
      "outputs": []
    },
    {
      "cell_type": "code",
      "source": [
        "input_dim = X_train.shape[1]\n",
        "model = ReversalClassifier(input_dim=input_dim).to(device)\n"
      ],
      "metadata": {
        "id": "jcO_Q7fXTo8y"
      },
      "execution_count": 196,
      "outputs": []
    },
    {
      "cell_type": "code",
      "source": [
        "device = torch.device('cuda' if torch.cuda.is_available() else 'cpu')\n",
        "model = ReversalClassifier(input_dim=X_train.shape[1]).to(device)\n",
        "\n",
        "criterion = nn.CrossEntropyLoss()\n",
        "optimizer = torch.optim.Adam(model.parameters(), lr=0.001)\n",
        "\n",
        "# Training loop\n",
        "num_epochs = 15\n",
        "for epoch in range(num_epochs):\n",
        "    model.train()\n",
        "    running_loss = 0\n",
        "    for batch_X, batch_y in train_loader:\n",
        "        batch_X, batch_y = batch_X.to(device), batch_y.to(device)\n",
        "\n",
        "        optimizer.zero_grad()\n",
        "        outputs = model(batch_X)\n",
        "        loss = criterion(outputs, batch_y)\n",
        "        loss.backward()\n",
        "        optimizer.step()\n",
        "\n",
        "        running_loss += loss.item()\n",
        "\n",
        "    avg_loss = running_loss / len(train_loader)\n",
        "    print(f\"Epoch {epoch+1}/{num_epochs}, Loss: {avg_loss:.4f}\")\n"
      ],
      "metadata": {
        "colab": {
          "base_uri": "https://localhost:8080/"
        },
        "id": "oMtKI-SiTFod",
        "outputId": "e242d5e8-673d-42c8-e8ec-1c5242ba1c6e"
      },
      "execution_count": 197,
      "outputs": [
        {
          "output_type": "stream",
          "name": "stdout",
          "text": [
            "Epoch 1/15, Loss: 0.6995\n",
            "Epoch 2/15, Loss: 0.6699\n",
            "Epoch 3/15, Loss: 0.6664\n",
            "Epoch 4/15, Loss: 0.6632\n",
            "Epoch 5/15, Loss: 0.6621\n",
            "Epoch 6/15, Loss: 0.6613\n",
            "Epoch 7/15, Loss: 0.6613\n",
            "Epoch 8/15, Loss: 0.6592\n",
            "Epoch 9/15, Loss: 0.6595\n",
            "Epoch 10/15, Loss: 0.6591\n",
            "Epoch 11/15, Loss: 0.6577\n",
            "Epoch 12/15, Loss: 0.6569\n",
            "Epoch 13/15, Loss: 0.6575\n",
            "Epoch 14/15, Loss: 0.6572\n",
            "Epoch 15/15, Loss: 0.6563\n"
          ]
        }
      ]
    },
    {
      "cell_type": "code",
      "source": [
        "from sklearn.metrics import classification_report, confusion_matrix\n",
        "\n",
        "model.eval()\n",
        "all_preds = []\n",
        "all_labels = []\n",
        "\n",
        "with torch.no_grad():\n",
        "    for batch_X, batch_y in test_loader:\n",
        "        batch_X = batch_X.to(device)\n",
        "        outputs = model(batch_X)\n",
        "        _, preds = torch.max(outputs, 1)\n",
        "        all_preds.extend(preds.cpu().numpy())\n",
        "        all_labels.extend(batch_y.numpy())\n",
        "\n",
        "unique_labels = sorted(list(set(all_labels + all_preds)))  # ensure all present labels are included\n",
        "print(confusion_matrix(all_labels, all_preds))\n",
        "print(classification_report(all_labels, all_preds, labels=unique_labels,\n",
        "                            target_names=[['No Reversal', 'Bullish', 'Bearish'][i] for i in unique_labels]))\n"
      ],
      "metadata": {
        "colab": {
          "base_uri": "https://localhost:8080/"
        },
        "id": "HkCJKXABTHZw",
        "outputId": "6f5163d5-5802-4657-85fc-5a3f73cfcafd"
      },
      "execution_count": 199,
      "outputs": [
        {
          "output_type": "stream",
          "name": "stdout",
          "text": [
            "[[1574  581]\n",
            " [ 952  791]]\n",
            "              precision    recall  f1-score   support\n",
            "\n",
            "     Bullish       0.62      0.73      0.67      2155\n",
            "     Bearish       0.58      0.45      0.51      1743\n",
            "\n",
            "    accuracy                           0.61      3898\n",
            "   macro avg       0.60      0.59      0.59      3898\n",
            "weighted avg       0.60      0.61      0.60      3898\n",
            "\n"
          ]
        }
      ]
    },
    {
      "cell_type": "code",
      "source": [
        "import numpy as np\n",
        "\n",
        "def create_lstm_sequences(X, y, seq_len=10):\n",
        "    X_seq, y_seq = [], []\n",
        "    for i in range(seq_len, len(X)):\n",
        "        X_seq.append(X[i-seq_len:i])\n",
        "        y_seq.append(y[i])\n",
        "    return np.array(X_seq), np.array(y_seq)\n",
        "\n",
        "# Your features are already scaled\n",
        "X_seq, y_seq = create_lstm_sequences(X_train_scaled, y_train.values, seq_len=10)\n",
        "X_test_seq, y_test_seq = create_lstm_sequences(X_test_scaled, y_test.values, seq_len=10)\n",
        "\n",
        "# Convert to tensors\n",
        "X_seq_tensor = torch.tensor(X_seq, dtype=torch.float32)\n",
        "y_seq_tensor = torch.tensor(y_seq, dtype=torch.long)\n",
        "\n",
        "X_test_seq_tensor = torch.tensor(X_test_seq, dtype=torch.float32)\n",
        "y_test_seq_tensor = torch.tensor(y_test_seq, dtype=torch.long)\n",
        "\n",
        "# DataLoaders\n",
        "train_dataset = torch.utils.data.TensorDataset(X_seq_tensor, y_seq_tensor)\n",
        "test_dataset = torch.utils.data.TensorDataset(X_test_seq_tensor, y_test_seq_tensor)\n",
        "\n",
        "train_loader = DataLoader(train_dataset, batch_size=64, shuffle=True)\n",
        "test_loader = DataLoader(test_dataset, batch_size=64)\n"
      ],
      "metadata": {
        "id": "7uW8xJRbT4Zl"
      },
      "execution_count": 200,
      "outputs": []
    },
    {
      "cell_type": "code",
      "source": [
        "class LSTMReversalClassifier(nn.Module):\n",
        "    def __init__(self, input_size, hidden_size=64, num_layers=2, num_classes=3):\n",
        "        super(LSTMReversalClassifier, self).__init__()\n",
        "        self.lstm = nn.LSTM(input_size, hidden_size, num_layers, batch_first=True, dropout=0.3)\n",
        "        self.fc = nn.Linear(hidden_size, num_classes)\n",
        "\n",
        "    def forward(self, x):\n",
        "        # x shape: (batch, seq_len, input_size)\n",
        "        out, (hn, cn) = self.lstm(x)\n",
        "        # Get last time step's output\n",
        "        out = self.fc(out[:, -1, :])\n",
        "        return out\n"
      ],
      "metadata": {
        "id": "Ul_v-U2RT5gy"
      },
      "execution_count": 201,
      "outputs": []
    },
    {
      "cell_type": "code",
      "source": [
        "input_size = X_seq.shape[2]  # number of features per time step\n",
        "model = LSTMReversalClassifier(input_size).to(device)\n",
        "\n",
        "criterion = nn.CrossEntropyLoss()\n",
        "optimizer = torch.optim.Adam(model.parameters(), lr=0.001)\n",
        "\n",
        "# Training loop\n",
        "num_epochs = 15\n",
        "for epoch in range(num_epochs):\n",
        "    model.train()\n",
        "    total_loss = 0\n",
        "    for X_batch, y_batch in train_loader:\n",
        "        X_batch, y_batch = X_batch.to(device), y_batch.to(device)\n",
        "\n",
        "        optimizer.zero_grad()\n",
        "        outputs = model(X_batch)\n",
        "        loss = criterion(outputs, y_batch)\n",
        "        loss.backward()\n",
        "        optimizer.step()\n",
        "        total_loss += loss.item()\n",
        "\n",
        "    print(f\"Epoch {epoch+1}/{num_epochs}, Loss: {total_loss/len(train_loader):.4f}\")\n"
      ],
      "metadata": {
        "colab": {
          "base_uri": "https://localhost:8080/"
        },
        "id": "HkdcpMaJT6rt",
        "outputId": "a9b67e31-da67-4817-f454-0d1b48326962"
      },
      "execution_count": 202,
      "outputs": [
        {
          "output_type": "stream",
          "name": "stdout",
          "text": [
            "Epoch 1/15, Loss: 0.7115\n",
            "Epoch 2/15, Loss: 0.6916\n",
            "Epoch 3/15, Loss: 0.6893\n",
            "Epoch 4/15, Loss: 0.6888\n",
            "Epoch 5/15, Loss: 0.6885\n",
            "Epoch 6/15, Loss: 0.6888\n",
            "Epoch 7/15, Loss: 0.6883\n",
            "Epoch 8/15, Loss: 0.6878\n",
            "Epoch 9/15, Loss: 0.6871\n",
            "Epoch 10/15, Loss: 0.6855\n",
            "Epoch 11/15, Loss: 0.6819\n",
            "Epoch 12/15, Loss: 0.6796\n",
            "Epoch 13/15, Loss: 0.6734\n",
            "Epoch 14/15, Loss: 0.6682\n",
            "Epoch 15/15, Loss: 0.6605\n"
          ]
        }
      ]
    },
    {
      "cell_type": "code",
      "source": [
        "pip install hmmlearn\n"
      ],
      "metadata": {
        "colab": {
          "base_uri": "https://localhost:8080/"
        },
        "id": "LktCJeJWUe1A",
        "outputId": "8a413f77-d004-4e1a-e5ce-876381018e2f"
      },
      "execution_count": 204,
      "outputs": [
        {
          "output_type": "stream",
          "name": "stdout",
          "text": [
            "Collecting hmmlearn\n",
            "  Downloading hmmlearn-0.3.3-cp311-cp311-manylinux_2_17_x86_64.manylinux2014_x86_64.whl.metadata (3.0 kB)\n",
            "Requirement already satisfied: numpy>=1.10 in /usr/local/lib/python3.11/dist-packages (from hmmlearn) (1.24.3)\n",
            "Requirement already satisfied: scikit-learn!=0.22.0,>=0.16 in /usr/local/lib/python3.11/dist-packages (from hmmlearn) (1.6.1)\n",
            "Requirement already satisfied: scipy>=0.19 in /usr/local/lib/python3.11/dist-packages (from hmmlearn) (1.15.3)\n",
            "Requirement already satisfied: joblib>=1.2.0 in /usr/local/lib/python3.11/dist-packages (from scikit-learn!=0.22.0,>=0.16->hmmlearn) (1.5.1)\n",
            "Requirement already satisfied: threadpoolctl>=3.1.0 in /usr/local/lib/python3.11/dist-packages (from scikit-learn!=0.22.0,>=0.16->hmmlearn) (3.6.0)\n",
            "Downloading hmmlearn-0.3.3-cp311-cp311-manylinux_2_17_x86_64.manylinux2014_x86_64.whl (165 kB)\n",
            "\u001b[2K   \u001b[90m━━━━━━━━━━━━━━━━━━━━━━━━━━━━━━━━━━━━━━━━\u001b[0m \u001b[32m165.9/165.9 kB\u001b[0m \u001b[31m3.1 MB/s\u001b[0m eta \u001b[36m0:00:00\u001b[0m\n",
            "\u001b[?25hInstalling collected packages: hmmlearn\n",
            "Successfully installed hmmlearn-0.3.3\n"
          ]
        }
      ]
    },
    {
      "cell_type": "code",
      "source": [
        "from sklearn.decomposition import PCA\n",
        "\n",
        "# Reduce to 2 principal components for HMM input\n",
        "pca = PCA(n_components=2)\n",
        "X_reduced = pca.fit_transform(X_train_scaled)\n",
        "\n",
        "# Same for test set\n",
        "X_test_reduced = pca.transform(X_test_scaled)\n"
      ],
      "metadata": {
        "id": "r-WBQWiAUhlg"
      },
      "execution_count": 205,
      "outputs": []
    },
    {
      "cell_type": "code",
      "source": [
        "from hmmlearn.hmm import GaussianHMM\n",
        "\n",
        "# You can tune n_components (hidden states) — start with 3\n",
        "model = GaussianHMM(n_components=3, covariance_type=\"full\", n_iter=100)\n",
        "model.fit(X_reduced)\n"
      ],
      "metadata": {
        "colab": {
          "base_uri": "https://localhost:8080/",
          "height": 81
        },
        "id": "NB_DSUnPUiiF",
        "outputId": "a0626f69-6361-43a1-882e-930eef7ec800"
      },
      "execution_count": 206,
      "outputs": [
        {
          "output_type": "execute_result",
          "data": {
            "text/plain": [
              "GaussianHMM(covariance_type='full', n_components=3, n_iter=100)"
            ],
            "text/html": [
              "<style>#sk-container-id-1 {\n",
              "  /* Definition of color scheme common for light and dark mode */\n",
              "  --sklearn-color-text: #000;\n",
              "  --sklearn-color-text-muted: #666;\n",
              "  --sklearn-color-line: gray;\n",
              "  /* Definition of color scheme for unfitted estimators */\n",
              "  --sklearn-color-unfitted-level-0: #fff5e6;\n",
              "  --sklearn-color-unfitted-level-1: #f6e4d2;\n",
              "  --sklearn-color-unfitted-level-2: #ffe0b3;\n",
              "  --sklearn-color-unfitted-level-3: chocolate;\n",
              "  /* Definition of color scheme for fitted estimators */\n",
              "  --sklearn-color-fitted-level-0: #f0f8ff;\n",
              "  --sklearn-color-fitted-level-1: #d4ebff;\n",
              "  --sklearn-color-fitted-level-2: #b3dbfd;\n",
              "  --sklearn-color-fitted-level-3: cornflowerblue;\n",
              "\n",
              "  /* Specific color for light theme */\n",
              "  --sklearn-color-text-on-default-background: var(--sg-text-color, var(--theme-code-foreground, var(--jp-content-font-color1, black)));\n",
              "  --sklearn-color-background: var(--sg-background-color, var(--theme-background, var(--jp-layout-color0, white)));\n",
              "  --sklearn-color-border-box: var(--sg-text-color, var(--theme-code-foreground, var(--jp-content-font-color1, black)));\n",
              "  --sklearn-color-icon: #696969;\n",
              "\n",
              "  @media (prefers-color-scheme: dark) {\n",
              "    /* Redefinition of color scheme for dark theme */\n",
              "    --sklearn-color-text-on-default-background: var(--sg-text-color, var(--theme-code-foreground, var(--jp-content-font-color1, white)));\n",
              "    --sklearn-color-background: var(--sg-background-color, var(--theme-background, var(--jp-layout-color0, #111)));\n",
              "    --sklearn-color-border-box: var(--sg-text-color, var(--theme-code-foreground, var(--jp-content-font-color1, white)));\n",
              "    --sklearn-color-icon: #878787;\n",
              "  }\n",
              "}\n",
              "\n",
              "#sk-container-id-1 {\n",
              "  color: var(--sklearn-color-text);\n",
              "}\n",
              "\n",
              "#sk-container-id-1 pre {\n",
              "  padding: 0;\n",
              "}\n",
              "\n",
              "#sk-container-id-1 input.sk-hidden--visually {\n",
              "  border: 0;\n",
              "  clip: rect(1px 1px 1px 1px);\n",
              "  clip: rect(1px, 1px, 1px, 1px);\n",
              "  height: 1px;\n",
              "  margin: -1px;\n",
              "  overflow: hidden;\n",
              "  padding: 0;\n",
              "  position: absolute;\n",
              "  width: 1px;\n",
              "}\n",
              "\n",
              "#sk-container-id-1 div.sk-dashed-wrapped {\n",
              "  border: 1px dashed var(--sklearn-color-line);\n",
              "  margin: 0 0.4em 0.5em 0.4em;\n",
              "  box-sizing: border-box;\n",
              "  padding-bottom: 0.4em;\n",
              "  background-color: var(--sklearn-color-background);\n",
              "}\n",
              "\n",
              "#sk-container-id-1 div.sk-container {\n",
              "  /* jupyter's `normalize.less` sets `[hidden] { display: none; }`\n",
              "     but bootstrap.min.css set `[hidden] { display: none !important; }`\n",
              "     so we also need the `!important` here to be able to override the\n",
              "     default hidden behavior on the sphinx rendered scikit-learn.org.\n",
              "     See: https://github.com/scikit-learn/scikit-learn/issues/21755 */\n",
              "  display: inline-block !important;\n",
              "  position: relative;\n",
              "}\n",
              "\n",
              "#sk-container-id-1 div.sk-text-repr-fallback {\n",
              "  display: none;\n",
              "}\n",
              "\n",
              "div.sk-parallel-item,\n",
              "div.sk-serial,\n",
              "div.sk-item {\n",
              "  /* draw centered vertical line to link estimators */\n",
              "  background-image: linear-gradient(var(--sklearn-color-text-on-default-background), var(--sklearn-color-text-on-default-background));\n",
              "  background-size: 2px 100%;\n",
              "  background-repeat: no-repeat;\n",
              "  background-position: center center;\n",
              "}\n",
              "\n",
              "/* Parallel-specific style estimator block */\n",
              "\n",
              "#sk-container-id-1 div.sk-parallel-item::after {\n",
              "  content: \"\";\n",
              "  width: 100%;\n",
              "  border-bottom: 2px solid var(--sklearn-color-text-on-default-background);\n",
              "  flex-grow: 1;\n",
              "}\n",
              "\n",
              "#sk-container-id-1 div.sk-parallel {\n",
              "  display: flex;\n",
              "  align-items: stretch;\n",
              "  justify-content: center;\n",
              "  background-color: var(--sklearn-color-background);\n",
              "  position: relative;\n",
              "}\n",
              "\n",
              "#sk-container-id-1 div.sk-parallel-item {\n",
              "  display: flex;\n",
              "  flex-direction: column;\n",
              "}\n",
              "\n",
              "#sk-container-id-1 div.sk-parallel-item:first-child::after {\n",
              "  align-self: flex-end;\n",
              "  width: 50%;\n",
              "}\n",
              "\n",
              "#sk-container-id-1 div.sk-parallel-item:last-child::after {\n",
              "  align-self: flex-start;\n",
              "  width: 50%;\n",
              "}\n",
              "\n",
              "#sk-container-id-1 div.sk-parallel-item:only-child::after {\n",
              "  width: 0;\n",
              "}\n",
              "\n",
              "/* Serial-specific style estimator block */\n",
              "\n",
              "#sk-container-id-1 div.sk-serial {\n",
              "  display: flex;\n",
              "  flex-direction: column;\n",
              "  align-items: center;\n",
              "  background-color: var(--sklearn-color-background);\n",
              "  padding-right: 1em;\n",
              "  padding-left: 1em;\n",
              "}\n",
              "\n",
              "\n",
              "/* Toggleable style: style used for estimator/Pipeline/ColumnTransformer box that is\n",
              "clickable and can be expanded/collapsed.\n",
              "- Pipeline and ColumnTransformer use this feature and define the default style\n",
              "- Estimators will overwrite some part of the style using the `sk-estimator` class\n",
              "*/\n",
              "\n",
              "/* Pipeline and ColumnTransformer style (default) */\n",
              "\n",
              "#sk-container-id-1 div.sk-toggleable {\n",
              "  /* Default theme specific background. It is overwritten whether we have a\n",
              "  specific estimator or a Pipeline/ColumnTransformer */\n",
              "  background-color: var(--sklearn-color-background);\n",
              "}\n",
              "\n",
              "/* Toggleable label */\n",
              "#sk-container-id-1 label.sk-toggleable__label {\n",
              "  cursor: pointer;\n",
              "  display: flex;\n",
              "  width: 100%;\n",
              "  margin-bottom: 0;\n",
              "  padding: 0.5em;\n",
              "  box-sizing: border-box;\n",
              "  text-align: center;\n",
              "  align-items: start;\n",
              "  justify-content: space-between;\n",
              "  gap: 0.5em;\n",
              "}\n",
              "\n",
              "#sk-container-id-1 label.sk-toggleable__label .caption {\n",
              "  font-size: 0.6rem;\n",
              "  font-weight: lighter;\n",
              "  color: var(--sklearn-color-text-muted);\n",
              "}\n",
              "\n",
              "#sk-container-id-1 label.sk-toggleable__label-arrow:before {\n",
              "  /* Arrow on the left of the label */\n",
              "  content: \"▸\";\n",
              "  float: left;\n",
              "  margin-right: 0.25em;\n",
              "  color: var(--sklearn-color-icon);\n",
              "}\n",
              "\n",
              "#sk-container-id-1 label.sk-toggleable__label-arrow:hover:before {\n",
              "  color: var(--sklearn-color-text);\n",
              "}\n",
              "\n",
              "/* Toggleable content - dropdown */\n",
              "\n",
              "#sk-container-id-1 div.sk-toggleable__content {\n",
              "  max-height: 0;\n",
              "  max-width: 0;\n",
              "  overflow: hidden;\n",
              "  text-align: left;\n",
              "  /* unfitted */\n",
              "  background-color: var(--sklearn-color-unfitted-level-0);\n",
              "}\n",
              "\n",
              "#sk-container-id-1 div.sk-toggleable__content.fitted {\n",
              "  /* fitted */\n",
              "  background-color: var(--sklearn-color-fitted-level-0);\n",
              "}\n",
              "\n",
              "#sk-container-id-1 div.sk-toggleable__content pre {\n",
              "  margin: 0.2em;\n",
              "  border-radius: 0.25em;\n",
              "  color: var(--sklearn-color-text);\n",
              "  /* unfitted */\n",
              "  background-color: var(--sklearn-color-unfitted-level-0);\n",
              "}\n",
              "\n",
              "#sk-container-id-1 div.sk-toggleable__content.fitted pre {\n",
              "  /* unfitted */\n",
              "  background-color: var(--sklearn-color-fitted-level-0);\n",
              "}\n",
              "\n",
              "#sk-container-id-1 input.sk-toggleable__control:checked~div.sk-toggleable__content {\n",
              "  /* Expand drop-down */\n",
              "  max-height: 200px;\n",
              "  max-width: 100%;\n",
              "  overflow: auto;\n",
              "}\n",
              "\n",
              "#sk-container-id-1 input.sk-toggleable__control:checked~label.sk-toggleable__label-arrow:before {\n",
              "  content: \"▾\";\n",
              "}\n",
              "\n",
              "/* Pipeline/ColumnTransformer-specific style */\n",
              "\n",
              "#sk-container-id-1 div.sk-label input.sk-toggleable__control:checked~label.sk-toggleable__label {\n",
              "  color: var(--sklearn-color-text);\n",
              "  background-color: var(--sklearn-color-unfitted-level-2);\n",
              "}\n",
              "\n",
              "#sk-container-id-1 div.sk-label.fitted input.sk-toggleable__control:checked~label.sk-toggleable__label {\n",
              "  background-color: var(--sklearn-color-fitted-level-2);\n",
              "}\n",
              "\n",
              "/* Estimator-specific style */\n",
              "\n",
              "/* Colorize estimator box */\n",
              "#sk-container-id-1 div.sk-estimator input.sk-toggleable__control:checked~label.sk-toggleable__label {\n",
              "  /* unfitted */\n",
              "  background-color: var(--sklearn-color-unfitted-level-2);\n",
              "}\n",
              "\n",
              "#sk-container-id-1 div.sk-estimator.fitted input.sk-toggleable__control:checked~label.sk-toggleable__label {\n",
              "  /* fitted */\n",
              "  background-color: var(--sklearn-color-fitted-level-2);\n",
              "}\n",
              "\n",
              "#sk-container-id-1 div.sk-label label.sk-toggleable__label,\n",
              "#sk-container-id-1 div.sk-label label {\n",
              "  /* The background is the default theme color */\n",
              "  color: var(--sklearn-color-text-on-default-background);\n",
              "}\n",
              "\n",
              "/* On hover, darken the color of the background */\n",
              "#sk-container-id-1 div.sk-label:hover label.sk-toggleable__label {\n",
              "  color: var(--sklearn-color-text);\n",
              "  background-color: var(--sklearn-color-unfitted-level-2);\n",
              "}\n",
              "\n",
              "/* Label box, darken color on hover, fitted */\n",
              "#sk-container-id-1 div.sk-label.fitted:hover label.sk-toggleable__label.fitted {\n",
              "  color: var(--sklearn-color-text);\n",
              "  background-color: var(--sklearn-color-fitted-level-2);\n",
              "}\n",
              "\n",
              "/* Estimator label */\n",
              "\n",
              "#sk-container-id-1 div.sk-label label {\n",
              "  font-family: monospace;\n",
              "  font-weight: bold;\n",
              "  display: inline-block;\n",
              "  line-height: 1.2em;\n",
              "}\n",
              "\n",
              "#sk-container-id-1 div.sk-label-container {\n",
              "  text-align: center;\n",
              "}\n",
              "\n",
              "/* Estimator-specific */\n",
              "#sk-container-id-1 div.sk-estimator {\n",
              "  font-family: monospace;\n",
              "  border: 1px dotted var(--sklearn-color-border-box);\n",
              "  border-radius: 0.25em;\n",
              "  box-sizing: border-box;\n",
              "  margin-bottom: 0.5em;\n",
              "  /* unfitted */\n",
              "  background-color: var(--sklearn-color-unfitted-level-0);\n",
              "}\n",
              "\n",
              "#sk-container-id-1 div.sk-estimator.fitted {\n",
              "  /* fitted */\n",
              "  background-color: var(--sklearn-color-fitted-level-0);\n",
              "}\n",
              "\n",
              "/* on hover */\n",
              "#sk-container-id-1 div.sk-estimator:hover {\n",
              "  /* unfitted */\n",
              "  background-color: var(--sklearn-color-unfitted-level-2);\n",
              "}\n",
              "\n",
              "#sk-container-id-1 div.sk-estimator.fitted:hover {\n",
              "  /* fitted */\n",
              "  background-color: var(--sklearn-color-fitted-level-2);\n",
              "}\n",
              "\n",
              "/* Specification for estimator info (e.g. \"i\" and \"?\") */\n",
              "\n",
              "/* Common style for \"i\" and \"?\" */\n",
              "\n",
              ".sk-estimator-doc-link,\n",
              "a:link.sk-estimator-doc-link,\n",
              "a:visited.sk-estimator-doc-link {\n",
              "  float: right;\n",
              "  font-size: smaller;\n",
              "  line-height: 1em;\n",
              "  font-family: monospace;\n",
              "  background-color: var(--sklearn-color-background);\n",
              "  border-radius: 1em;\n",
              "  height: 1em;\n",
              "  width: 1em;\n",
              "  text-decoration: none !important;\n",
              "  margin-left: 0.5em;\n",
              "  text-align: center;\n",
              "  /* unfitted */\n",
              "  border: var(--sklearn-color-unfitted-level-1) 1pt solid;\n",
              "  color: var(--sklearn-color-unfitted-level-1);\n",
              "}\n",
              "\n",
              ".sk-estimator-doc-link.fitted,\n",
              "a:link.sk-estimator-doc-link.fitted,\n",
              "a:visited.sk-estimator-doc-link.fitted {\n",
              "  /* fitted */\n",
              "  border: var(--sklearn-color-fitted-level-1) 1pt solid;\n",
              "  color: var(--sklearn-color-fitted-level-1);\n",
              "}\n",
              "\n",
              "/* On hover */\n",
              "div.sk-estimator:hover .sk-estimator-doc-link:hover,\n",
              ".sk-estimator-doc-link:hover,\n",
              "div.sk-label-container:hover .sk-estimator-doc-link:hover,\n",
              ".sk-estimator-doc-link:hover {\n",
              "  /* unfitted */\n",
              "  background-color: var(--sklearn-color-unfitted-level-3);\n",
              "  color: var(--sklearn-color-background);\n",
              "  text-decoration: none;\n",
              "}\n",
              "\n",
              "div.sk-estimator.fitted:hover .sk-estimator-doc-link.fitted:hover,\n",
              ".sk-estimator-doc-link.fitted:hover,\n",
              "div.sk-label-container:hover .sk-estimator-doc-link.fitted:hover,\n",
              ".sk-estimator-doc-link.fitted:hover {\n",
              "  /* fitted */\n",
              "  background-color: var(--sklearn-color-fitted-level-3);\n",
              "  color: var(--sklearn-color-background);\n",
              "  text-decoration: none;\n",
              "}\n",
              "\n",
              "/* Span, style for the box shown on hovering the info icon */\n",
              ".sk-estimator-doc-link span {\n",
              "  display: none;\n",
              "  z-index: 9999;\n",
              "  position: relative;\n",
              "  font-weight: normal;\n",
              "  right: .2ex;\n",
              "  padding: .5ex;\n",
              "  margin: .5ex;\n",
              "  width: min-content;\n",
              "  min-width: 20ex;\n",
              "  max-width: 50ex;\n",
              "  color: var(--sklearn-color-text);\n",
              "  box-shadow: 2pt 2pt 4pt #999;\n",
              "  /* unfitted */\n",
              "  background: var(--sklearn-color-unfitted-level-0);\n",
              "  border: .5pt solid var(--sklearn-color-unfitted-level-3);\n",
              "}\n",
              "\n",
              ".sk-estimator-doc-link.fitted span {\n",
              "  /* fitted */\n",
              "  background: var(--sklearn-color-fitted-level-0);\n",
              "  border: var(--sklearn-color-fitted-level-3);\n",
              "}\n",
              "\n",
              ".sk-estimator-doc-link:hover span {\n",
              "  display: block;\n",
              "}\n",
              "\n",
              "/* \"?\"-specific style due to the `<a>` HTML tag */\n",
              "\n",
              "#sk-container-id-1 a.estimator_doc_link {\n",
              "  float: right;\n",
              "  font-size: 1rem;\n",
              "  line-height: 1em;\n",
              "  font-family: monospace;\n",
              "  background-color: var(--sklearn-color-background);\n",
              "  border-radius: 1rem;\n",
              "  height: 1rem;\n",
              "  width: 1rem;\n",
              "  text-decoration: none;\n",
              "  /* unfitted */\n",
              "  color: var(--sklearn-color-unfitted-level-1);\n",
              "  border: var(--sklearn-color-unfitted-level-1) 1pt solid;\n",
              "}\n",
              "\n",
              "#sk-container-id-1 a.estimator_doc_link.fitted {\n",
              "  /* fitted */\n",
              "  border: var(--sklearn-color-fitted-level-1) 1pt solid;\n",
              "  color: var(--sklearn-color-fitted-level-1);\n",
              "}\n",
              "\n",
              "/* On hover */\n",
              "#sk-container-id-1 a.estimator_doc_link:hover {\n",
              "  /* unfitted */\n",
              "  background-color: var(--sklearn-color-unfitted-level-3);\n",
              "  color: var(--sklearn-color-background);\n",
              "  text-decoration: none;\n",
              "}\n",
              "\n",
              "#sk-container-id-1 a.estimator_doc_link.fitted:hover {\n",
              "  /* fitted */\n",
              "  background-color: var(--sklearn-color-fitted-level-3);\n",
              "}\n",
              "</style><div id=\"sk-container-id-1\" class=\"sk-top-container\"><div class=\"sk-text-repr-fallback\"><pre>GaussianHMM(covariance_type=&#x27;full&#x27;, n_components=3, n_iter=100)</pre><b>In a Jupyter environment, please rerun this cell to show the HTML representation or trust the notebook. <br />On GitHub, the HTML representation is unable to render, please try loading this page with nbviewer.org.</b></div><div class=\"sk-container\" hidden><div class=\"sk-item\"><div class=\"sk-estimator fitted sk-toggleable\"><input class=\"sk-toggleable__control sk-hidden--visually\" id=\"sk-estimator-id-1\" type=\"checkbox\" checked><label for=\"sk-estimator-id-1\" class=\"sk-toggleable__label fitted sk-toggleable__label-arrow\"><div><div>GaussianHMM</div></div><div><span class=\"sk-estimator-doc-link fitted\">i<span>Fitted</span></span></div></label><div class=\"sk-toggleable__content fitted\"><pre>GaussianHMM(covariance_type=&#x27;full&#x27;, n_components=3, n_iter=100)</pre></div> </div></div></div></div>"
            ]
          },
          "metadata": {},
          "execution_count": 206
        }
      ]
    },
    {
      "cell_type": "code",
      "source": [
        "hidden_states = model.predict(X_test_reduced)\n"
      ],
      "metadata": {
        "id": "-VEmOehwUjk1"
      },
      "execution_count": 207,
      "outputs": []
    },
    {
      "cell_type": "code",
      "source": [
        "import pandas as pd\n",
        "state_map_df = pd.DataFrame({\n",
        "    'state': hidden_states,\n",
        "    'true_label': y_test.values[len(y_test) - len(hidden_states):]  # align lengths\n",
        "})\n",
        "\n",
        "# Map state -> most common true label\n",
        "state_to_label = state_map_df.groupby('state')['true_label'].agg(lambda x: x.value_counts().idxmax()).to_dict()\n",
        "\n",
        "# Convert predicted hidden states to trend labels\n",
        "predicted_labels = [state_to_label[state] for state in hidden_states]\n"
      ],
      "metadata": {
        "id": "MoH2_txgUmUM"
      },
      "execution_count": 208,
      "outputs": []
    },
    {
      "cell_type": "code",
      "source": [
        "from sklearn.metrics import classification_report, confusion_matrix\n",
        "\n",
        "print(confusion_matrix(y_test[-len(predicted_labels):], predicted_labels))\n",
        "print(classification_report(y_test[-len(predicted_labels):], predicted_labels))\n"
      ],
      "metadata": {
        "colab": {
          "base_uri": "https://localhost:8080/"
        },
        "id": "c6V7c4UXUq5q",
        "outputId": "8de7b738-4730-4f91-d21c-caf37c137c61"
      },
      "execution_count": 209,
      "outputs": [
        {
          "output_type": "stream",
          "name": "stdout",
          "text": [
            "[[2008  147]\n",
            " [1560  183]]\n",
            "              precision    recall  f1-score   support\n",
            "\n",
            "           1       0.56      0.93      0.70      2155\n",
            "           2       0.55      0.10      0.18      1743\n",
            "\n",
            "    accuracy                           0.56      3898\n",
            "   macro avg       0.56      0.52      0.44      3898\n",
            "weighted avg       0.56      0.56      0.47      3898\n",
            "\n"
          ]
        }
      ]
    }
  ]
}